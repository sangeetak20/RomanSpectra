{
 "cells": [
  {
   "cell_type": "markdown",
   "id": "364d4442",
   "metadata": {},
   "source": [
    "Import Libraries\n",
    "\n",
    "Here we import necessary libraries for mathematical calculations and plotting.\n"
   ]
  },
  {
   "cell_type": "code",
   "execution_count": 3,
   "id": "2a376be0",
   "metadata": {},
   "outputs": [],
   "source": [
    "import numpy as np\n",
    "import pandas as pd\n",
    "import csv\n",
    "import matplotlib.pyplot as plt\n",
    "import astropy.io.fits as fits\n",
    "import astropy.units as u\n",
    "from astropy.cosmology import FlatLambdaCDM\n",
    "from astropy.modeling import models, fitting\n",
    "from scipy import ndimage, stats, optimize\n",
    "from scipy.stats import gaussian_kde\n",
    "from scipy.optimize import curve_fit, least_squares, leastsq\n",
    "import glob\n",
    "import os\n",
    "from numpy import exp  # Exponential function for Gaussian calculations\n",
    "plt.style.use('seaborn-v0_8-white')\n",
    "plt.rcParams['font.family'] = \"Serif\""
   ]
  },
  {
   "cell_type": "markdown",
   "id": "331e2a61",
   "metadata": {},
   "source": [
    "# Function Definitions-"
   ]
  },
  {
   "cell_type": "markdown",
   "id": "1a1eff79",
   "metadata": {},
   "source": [
    "Function 1: Calculate redshift from velocity\n",
    "This function calculates the redshift, which measures how much the wavelength of light is stretched due to an object's motion away from the observer.\n",
    "\n",
    "Inputs:\n",
    "- vel: The velocity of the object in km/s.\n",
    "\n",
    "Steps:\n",
    "   Divide the object's velocity by the speed of light (300,000 km/s) to calculate the redshift:\n",
    "   redshift = vel / 300,000\n",
    "\n",
    "Output:\n",
    "The redshift value, which indicates the fractional increase in wavelength due to the object's motion."
   ]
  },
  {
   "cell_type": "code",
   "execution_count": 7,
   "id": "2ea39670",
   "metadata": {},
   "outputs": [],
   "source": [
    "def redshift(vel):\n",
    "    \"\"\"\n",
    "    Calculate redshift based on the velocity of an object.\n",
    "\n",
    "    Parameters:\n",
    "    vel (float): Velocity in km/s\n",
    "\n",
    "    Returns:\n",
    "    float: Redshift value\n",
    "    \"\"\"\n",
    "    return vel / 300000.0  # Divide velocity by the speed of light (in km/s)"
   ]
  },
  {
   "cell_type": "markdown",
   "id": "9b7dc1a1",
   "metadata": {},
   "source": [
    "Function 2: Calculate line width (sigma) from velocity dispersion\n",
    "This function calculates the observed width of a spectral line (sigma) by combining the broadening from the object's velocity dispersion and the instrumental resolution.\n",
    "\n",
    "Inputs:\n",
    "- vel_sigma: The velocity dispersion of the object in km/s.\n",
    "- rest_line: The rest-frame wavelength of the spectral line in Angstroms.\n",
    "- inst_res_fwhm: The instrument's resolution in Angstroms (FWHM).\n",
    "\n",
    "Steps:\n",
    "1. Convert velocity dispersion to wavelength broadening using the formula:\n",
    "   sigma_object = (vel_sigma / 300,000) * rest_line\n",
    "   where 300,000 is the speed of light in km/s.\n",
    "\n",
    "2. Convert the instrument's resolution (FWHM) to sigma using:\n",
    "   sigma_instrument = inst_res_fwhm / 2.354\n",
    "\n",
    "3. Combine the intrinsic and instrumental broadening using:\n",
    "   total_sigma = sqrt(sigma_object^2 + sigma_instrument^2)\n",
    "\n",
    "Output:\n",
    "The total line width (sigma) in Angstroms, accounting for both effects."
   ]
  },
  {
   "cell_type": "code",
   "execution_count": 8,
   "id": "b54abcf5",
   "metadata": {},
   "outputs": [],
   "source": [
    "def line_width(vel_sigma, rest_line, inst_res_fwhm):\n",
    "    \"\"\"\n",
    "    Calculate the total line width (sigma), accounting for both intrinsic width and instrument resolution.\n",
    "\n",
    "    Parameters:\n",
    "    vel_sigma (float): Velocity dispersion in km/s\n",
    "    rest_line (float): Rest-frame wavelength of the emission line (in Angstroms)\n",
    "    inst_res_fwhm (float): Instrument resolution (Full Width at Half Maximum)\n",
    "\n",
    "    Returns:\n",
    "    float: Total line width (sigma) in Angstroms\n",
    "    \"\"\"\n",
    "    sigma = vel_sigma / (300000.0 - vel_sigma) * rest_line  # Convert velocity dispersion to wavelength dispersion\n",
    "    return np.sqrt(sigma**2 + (inst_res_fwhm / 2.354)**2)  # Combine intrinsic and instrument effects"
   ]
  },
  {
   "cell_type": "markdown",
   "id": "5122c0da",
   "metadata": {},
   "source": [
    "Function 3: Generate a Gaussian profile\n",
    "This function creates a Gaussian profile to model an emission or absorption line in a spectrum. It accounts for the line's peak intensity, position, width, and instrumental effects.\n",
    "\n",
    "1. The input `wave` is the array of wavelengths where the profile will be evaluated.\n",
    "2. The `amplitude` specifies the height of the Gaussian peak, representing the line's intensity.\n",
    "3. The `vel` shifts the line's rest wavelength (`rest_wave`) to account for Doppler effects, using the `redshift` function.\n",
    "4. The `vel_sigma` represents the velocity dispersion of the source, which determines the line's width in combination with the instrumental resolution (`inst_res_fwhm`).\n",
    "5. The formula `exp(-(wave - redshifted_wave)**2 / (2 * sigma**2))` generates a symmetric Gaussian curve centered on the Doppler-shifted wavelength with a width (`sigma`) calculated by `line_width`.\n",
    "\n",
    "The output is a Gaussian profile as an array, describing how the line's intensity varies with wavelength."
   ]
  },
  {
   "cell_type": "code",
   "execution_count": 62,
   "id": "8965421d",
   "metadata": {},
   "outputs": [],
   "source": [
    "def Hb_model_single(wave, amp_Hb_core, vel_core, vel_sigma_core, m, c):\n",
    "    \"\"\"\n",
    "    Model H-beta and OIII lines with Gaussian profiles, including a continuum.\n",
    "\n",
    "    Parameters:\n",
    "    wave (array): Wavelength array (in Angstroms)\n",
    "    amp_Hb_core (float): Amplitude of the core component of H-beta\n",
    "    vel_core (float): Velocity shift for core components (in km/s)\n",
    "    vel_sigma_core (float): Velocity dispersion for core components (in km/s)\n",
    "    m (float): Slope of the linear continuum\n",
    "    c (float): Intercept of the linear continuum\n",
    "\n",
    "    Returns:\n",
    "    array: Combined model of H-beta, OIII, and the continuum\n",
    "    \"\"\"\n",
    "    Hb_core = gauss(wave, amp_Hb_core, vel_core, vel_sigma_core, 4861.33, 2.3)  # H-beta core\n",
    "    cont = (wave / 1000) * m + c  # Linear continuum\n",
    "    return Hb_core + cont"
   ]
  },
  {
   "cell_type": "code",
   "execution_count": 9,
   "id": "044a9e58",
   "metadata": {},
   "outputs": [],
   "source": [
    "def gauss(wave, amplitude, vel, vel_sigma, rest_wave, inst_res_fwhm):\n",
    "    \"\"\"\n",
    "    Generate a Gaussian line profile based on input parameters.\n",
    "\n",
    "    Parameters:\n",
    "    wave (array): Wavelength array (in Angstroms)\n",
    "    amplitude (float): Peak intensity of the line\n",
    "    vel (float): Velocity shift in km/s\n",
    "    vel_sigma (float): Velocity dispersion in km/s\n",
    "    rest_wave (float): Rest-frame wavelength of the line (in Angstroms)\n",
    "    inst_res_fwhm (float): Instrument resolution (FWHM in Angstroms)\n",
    "\n",
    "    Returns:\n",
    "    array: Gaussian line profile\n",
    "    \"\"\"\n",
    "    redshifted_wave = rest_wave * (1 + redshift(vel))  # Shift rest wavelength by velocity\n",
    "    sigma = line_width(vel_sigma, rest_wave, inst_res_fwhm)  # Calculate line width (sigma)\n",
    "    return amplitude * exp(-(wave - redshifted_wave)**2 / (2 * sigma**2))\n"
   ]
  },
  {
   "cell_type": "markdown",
   "id": "f995078a",
   "metadata": {},
   "source": [
    "Function 4: This function models the H-beta (4861.33 Å) and OIII (4959 Å, 5006.8 Å) emission lines in a spectrum. It assumes core Gaussian components dominate while wing components are zero.\n",
    "\n",
    "1. `Hb_core`: Models the H-beta emission line core using a Gaussian centered at 4861.33 Å, with amplitude `amp_Hb_core` and velocity-related adjustments (`vel_core`, `vel_sigma_core`).\n",
    "\n",
    "2. `OIII_core_5007`: Models the OIII line at 5006.8 Å similarly, using `amp_OIII_core` for amplitude.\n",
    "\n",
    "3. `OIII_core_4959`: Represents the OIII line at 4959 Å. Its amplitude is scaled to 1/3 of the OIII 5007 Å line's amplitude (`0.33 * amp_OIII_core`).\n",
    "\n",
    "4. Wing components (`Hb_wing`, `OIII_wing_4959`, `OIII_wing_5007`) are set to zero, assuming no significant broadening beyond the core.\n",
    "\n",
    "5. `cont`: Models the linear continuum background as `(wave/1000) * m + c`, where `m` is the slope and `c` is the intercept.\n",
    "\n",
    "The function returns the sum of the modeled H-beta, OIII lines, and the continuum."
   ]
  },
  {
   "cell_type": "code",
   "execution_count": 66,
   "id": "0ae4f523",
   "metadata": {},
   "outputs": [],
   "source": [
    " def Hb_OIII_gauss_model_single(wave, amp_Hb_core, amp_OIII_core, vel_core, vel_sigma_core, m, c):\n",
    "    \"\"\"\n",
    "    Model H-beta and OIII lines with Gaussian profiles, including a continuum.\n",
    "\n",
    "    Parameters:\n",
    "    wave (array): Wavelength array (in Angstroms)\n",
    "    amp_Hb_core (float): Amplitude of the core component of H-beta\n",
    "    amp_OIII_core (float): Amplitude of the core component of OIII\n",
    "    vel_core (float): Velocity shift for core components (in km/s)\n",
    "    vel_sigma_core (float): Velocity dispersion for core components (in km/s)\n",
    "    m (float): Slope of the linear continuum\n",
    "    c (float): Intercept of the linear continuum\n",
    "\n",
    "    Returns:\n",
    "    array: Combined model of H-beta, OIII, and the continuum\n",
    "    \"\"\"\n",
    "    Hb_core = gauss(wave, amp_Hb_core, vel_core, vel_sigma_core, 4861.33, 2.3)  # H-beta core\n",
    "    OIII_core_5007 = gauss(wave, amp_OIII_core, vel_core, vel_sigma_core, 5006.8, 2.3)  # OIII core at 5007\n",
    "    OIII_core_4959 = 0.33 * gauss(wave, amp_OIII_core, vel_core, vel_sigma_core, 4959, 2.3)  # OIII core at 4959\n",
    "    cont = (wave / 1000) * m + c  # Linear continuum\n",
    "    return Hb_core + OIII_core_5007 + OIII_core_4959 + Hb_wing + OIII_wing_4959 + OIII_wing_5007 + cont\n"
   ]
  },
  {
   "cell_type": "markdown",
   "id": "e7659156",
   "metadata": {},
   "source": [
    "Function 5: Model H-alpha and NII lines with single Gaussians\n",
    "This function models the H-alpha (6562.8 Å) and NII (6548 Å, 6583 Å) emission lines using Gaussian profiles. It assumes each line has a single Gaussian core component:\n",
    "\n",
    "1. H-alpha Core: Modeled using a Gaussian centered at the H-alpha rest wavelength, adjusted for velocity (`vel_core`) and width (`vel_sigma_core`).\n",
    "2. NII Core Components:\n",
    "   - NII 6548 Å: Its amplitude is scaled by `1/2.61` relative to the NII 6583 Å line.\n",
    "   - NII 6583 Å: Modeled as a Gaussian using the provided parameters.\n",
    "3. Linear Continuum: A simple straight line is added to represent background continuum emission using the slope (`m`) and intercept (`c`).\n",
    "\n",
    "The function outputs the sum of these components, providing a combined model for H-alpha, NII, and the continuum."
   ]
  },
  {
   "cell_type": "markdown",
   "id": "01d416f6",
   "metadata": {},
   "source": [
    "# Load and read a spectral file"
   ]
  },
  {
   "cell_type": "code",
   "execution_count": 14,
   "id": "f4b0110b",
   "metadata": {},
   "outputs": [],
   "source": [
    "data=np.loadtxt('/Users/mainaksingha/Downloads/CIDER/J132152+472746.txt')\n",
    "ivar=data.T[2]"
   ]
  },
  {
   "cell_type": "markdown",
   "id": "2aea1141",
   "metadata": {},
   "source": [
    "The np.loadtxt() function reads the file containing the spectrum data.\n",
    "\n",
    "The file contains columns for flux, log_wavelength, and inverse variance.\n",
    "\n",
    "The data is stored as a 2D array where each row corresponds to a single data point.\n"
   ]
  },
  {
   "cell_type": "code",
   "execution_count": 27,
   "id": "3de098cd",
   "metadata": {},
   "outputs": [],
   "source": [
    "flux=data.T[0]"
   ]
  },
  {
   "cell_type": "markdown",
   "id": "df5c9620",
   "metadata": {},
   "source": [
    "data.T transposes the array, swapping rows and columns.\n",
    "\n",
    "The first column (index 0) corresponds to the flux values, which measure the brightness at each wavelength.\n",
    "\n",
    "This is extracted and stored in the variable flux."
   ]
  },
  {
   "cell_type": "code",
   "execution_count": 25,
   "id": "86237fb8",
   "metadata": {},
   "outputs": [],
   "source": [
    "log_lam=data.T[1]"
   ]
  },
  {
   "cell_type": "markdown",
   "id": "cc3a1ed7",
   "metadata": {},
   "source": [
    "Extract logarithmic wavelength:\n",
    "\n",
    "The second column (index 1) contains the logarithm (base 10) of the wavelength values.\n",
    "\n",
    "These logarithmic values are stored in log_lam."
   ]
  },
  {
   "cell_type": "code",
   "execution_count": 28,
   "id": "06260d64",
   "metadata": {},
   "outputs": [],
   "source": [
    "wav=10**log_lam"
   ]
  },
  {
   "cell_type": "markdown",
   "id": "011bba67",
   "metadata": {},
   "source": [
    "The logarithmic wavelength values are exponentiated (base 10) to get the actual wavelength (wav) in microns or another unit.\n",
    "\n",
    "The resulting array represents the wavelengths in physical space."
   ]
  },
  {
   "cell_type": "code",
   "execution_count": 29,
   "id": "6e99f1ac",
   "metadata": {},
   "outputs": [],
   "source": [
    "ivar = data.T[2]"
   ]
  },
  {
   "cell_type": "markdown",
   "id": "5f0e9b6f",
   "metadata": {},
   "source": [
    "The third column (index 2) contains the inverse variance (1 / noise²), representing the data's uncertainty."
   ]
  },
  {
   "cell_type": "markdown",
   "id": "8d6ec8b2",
   "metadata": {},
   "source": [
    "Notes on redshifting and de-redshifting:\n",
    "\n",
    "The wavelengths in the file are redshifted due to the motion of the object.\n",
    "\n",
    "The observable range is between 1 and 1.93 microns.\n",
    "\n",
    "After extracting the data, the redshift can be used to \"de-redshift\" the wavelengths, restoring them to their original rest-frame values.\n",
    "\n",
    "This process extracts the key components—flux, wavelength, and uncertainty—from the spectrum data for further analysis."
   ]
  },
  {
   "cell_type": "code",
   "execution_count": 30,
   "id": "01ffed54",
   "metadata": {},
   "outputs": [
    {
     "data": {
      "text/plain": [
       "[<matplotlib.lines.Line2D at 0x159b9d110>]"
      ]
     },
     "execution_count": 30,
     "metadata": {},
     "output_type": "execute_result"
    },
    {
     "data": {
      "image/png": "[encoded data removed]",
      "text/plain": [
       "<Figure size 640x480 with 1 Axes>"
      ]
     },
     "metadata": {},
     "output_type": "display_data"
    }
   ],
   "source": [
    "plt.plot(wav,flux)"
   ]
  },
  {
   "cell_type": "markdown",
   "id": "c002c106",
   "metadata": {},
   "source": [
    "This process extracts a spectum with many peak likefeatures visible. \n",
    "Those are the emission lines.\n",
    "\n",
    "\n",
    "1. Galaxies:\n",
    "   - Star-forming regions: Young stars ionize hydrogen gas, producing emission lines like H-alpha (6563 Å) and H-beta (4861 Å). Metal lines, like [O III] 5007 Å and [N II] 6584 Å, arise from ionized gas.\n",
    "\n",
    "2. Active Galactic Nuclei (AGN):\n",
    "   - Broad lines: High-velocity gas near the black hole produces Doppler-broadened lines like H-alpha and H-beta.\n",
    "   - Narrow lines: Ionized gas in outer regions forms narrow lines like [O III] 5007 Å.\n",
    "   - Highly ionized lines: X-rays create lines from elements like neon and iron.\n",
    "\n",
    "3. Stars:\n",
    "   - Hot stars: Produce hydrogen and helium emission lines.\n",
    "   - Cool stars: Show molecular and metal emission lines due to lower temperatures."
   ]
  },
  {
   "cell_type": "code",
   "execution_count": 36,
   "id": "27bd0b6b",
   "metadata": {},
   "outputs": [
    {
     "data": {
      "text/plain": [
       "(0.0, 20.0)"
      ]
     },
     "execution_count": 36,
     "metadata": {},
     "output_type": "execute_result"
    },
    {
     "data": {
      "image/png": "[encoded data removed]",
      "text/plain": [
       "<Figure size 640x480 with 1 Axes>"
      ]
     },
     "metadata": {},
     "output_type": "display_data"
    }
   ],
   "source": [
    "plt.plot(wav,flux)\n",
    "plt.xlim(4900,5100)\n",
    "plt.ylim(0,20)\n",
    "plt.xlabel('Angstrom')\n",
    "plt.ylabel('Flux density')"
   ]
  },
  {
   "cell_type": "markdown",
   "id": "eaf42cf5",
   "metadata": {},
   "source": [
    "Now, it's time to zoom in on the emission lines. We see an emission line triplet around 5000 Angstroms, so let's focus on that.\n",
    "\n",
    "plt.plot(wav, flux): Plots the flux (intensity) against the wavelength (in Angstroms).\n",
    "    \n",
    "plt.xlim(4900, 5100): Sets the x-axis limits to zoom in on the region between 4900 and 5100 Angstroms.\n",
    "    \n",
    "plt.ylim(0, 20): Sets the y-axis limits to adjust the vertical scale as emission line amplitudes are always positive.\n",
    "    \n",
    "plt.xlabel('Angstrom'): Labels the x-axis as \"Angstrom\" to indicate the wavelength unit.\n",
    "    \n",
    "plt.ylabel('Flux density'): Labels the y-axis as \"Flux density\" to indicate the intensity unit."
   ]
  },
  {
   "cell_type": "markdown",
   "id": "1f246938",
   "metadata": {},
   "source": [
    "# Fitting an emission line spectrum"
   ]
  },
  {
   "cell_type": "markdown",
   "id": "a77103ec",
   "metadata": {},
   "source": [
    "Yes, the triplet is clearly visible.\n",
    "\n",
    "From left to right, the emission lines are:\n",
    "\n",
    "Hβ: Rest-frame wavelength of 4861 Angstroms\n",
    "[O III]: Rest-frame wavelength of 4959 Angstroms\n",
    "[O III]: Rest-frame wavelength of 5007 Angstroms\n",
    "It's important to note that there are two [O III] emission lines. \n",
    "The one at 5007 Angstroms is significantly brighter, approximately three times more than the one at 4959 Angstroms.\n",
    "\n",
    "Since, we already know their rest-frame wavelength this gives us a great chance to directly measure its redshift."
   ]
  },
  {
   "cell_type": "markdown",
   "id": "87ce0799",
   "metadata": {},
   "source": [
    "1. The observed peak is estimated to be between 4925 Å and 4950 Å, so we assume it is around 4935 Å.\n",
    "2. Redshift is calculated using the formula:\n",
    "   z = (observed wavelength - rest wavelength) / rest wavelength.\n",
    "3. The rest wavelength for the emission line must be known, for example, 5007 Å for [O III].\n",
    "4. Using the assumed observed wavelength and the rest wavelength, calculate the redshift.\n",
    "5. If the redshift estimate is inconsistent with expectations, refine the observed wavelength guess or verify the line identification."
   ]
  },
  {
   "cell_type": "code",
   "execution_count": 75,
   "id": "967af294",
   "metadata": {},
   "outputs": [
    {
     "name": "stdout",
     "output_type": "stream",
     "text": [
      "0.0152232051018309\n"
     ]
    }
   ],
   "source": [
    "# Here we estimate a best guess for the redshift\n",
    "\n",
    "Observed_wavelength = 4935\n",
    "Restframe_wavelength = 4861\n",
    "\n",
    "Redshift= (Observed_wavelength-Restframe_wavelength)/Restframe_wavelength\n",
    "\n",
    "print(Redshift)"
   ]
  },
  {
   "cell_type": "code",
   "execution_count": 72,
   "id": "3011a858",
   "metadata": {},
   "outputs": [],
   "source": [
    "c=300000 #This sets the speed of light, which is a key value used to calculate redshift-related velocities.\n",
    "k=1+Redshift # "
   ]
  },
  {
   "cell_type": "markdown",
   "id": "247b0681",
   "metadata": {},
   "source": [
    "Redshift represents the redshift value (z) of the source.\n",
    "The redshift factor k is calculated as \n",
    "k=1+z, which scales rest-frame wavelengths to observed wavelengths."
   ]
  },
  {
   "cell_type": "code",
   "execution_count": 73,
   "id": "611b3392",
   "metadata": {},
   "outputs": [],
   "source": [
    "select_Hb= (wav>4830*k)&(wav<4890*k) "
   ]
  },
  {
   "cell_type": "markdown",
   "id": "3de11386",
   "metadata": {},
   "source": [
    "This step creates a boolean mask (select_Hb) that identifies the wavelengths corresponding to the redshifted H-beta line, assuming it falls between 4830 Å and 4890 Å after scaling by the redshift factor k.\n"
   ]
  },
  {
   "cell_type": "code",
   "execution_count": 74,
   "id": "c6f9c2b4",
   "metadata": {},
   "outputs": [],
   "source": [
    "wav_Hb= wav[select_Hb]\n",
    "flux_Hb=flux[select_Hb]"
   ]
  },
  {
   "cell_type": "markdown",
   "id": "5c0b4d87",
   "metadata": {},
   "source": [
    "wav_Hb extracts the observed wavelengths from the wav array that fall within the selected range.\n",
    "\n",
    "flux_Hb extracts the corresponding flux values from the flux array"
   ]
  },
  {
   "cell_type": "code",
   "execution_count": 76,
   "id": "c5275c17",
   "metadata": {},
   "outputs": [
    {
     "name": "stdout",
     "output_type": "stream",
     "text": [
      "[7.78655546e+00 4.48426514e+03 3.65580843e+01 1.94420345e-01\n",
      " 3.06475079e-01]\n"
     ]
    }
   ],
   "source": [
    "popt_Hb,pcov_Hb=curve_fit(Hb_model_single,wav_Hb,flux_Hb,p0=[5,c*Redshift,60,0.1,0.001],maxfev=10000000)\n",
    "print(popt_Hb)"
   ]
  },
  {
   "cell_type": "markdown",
   "id": "d89788a5",
   "metadata": {},
   "source": [
    "curve_fit fits the Hb_model_single function (assumed to be predefined) to the extracted wavelength (wav_Hb) and flux (flux_Hb) data.\n",
    "\n",
    "The p0 parameter provides initial guesses for the model parameters:\n",
    "    \n",
    "5: Initial guess for the amplitude of the H-beta line.\n",
    "    \n",
    "c * Redshift: Initial guess for the velocity of the line, calculated from the redshift.\n",
    "    \n",
    "60: Initial guess for the velocity dispersion (line width) in km/s.\n",
    "    \n",
    "0.1: Initial guess for a linear continuum slope.\n",
    "    \n",
    "0.001: Initial guess for the linear continuum intercept.\n",
    "    \n",
    "maxfev=10000000 ensures the fitting algorithm performs enough iterations to converge."
   ]
  },
  {
   "cell_type": "code",
   "execution_count": 77,
   "id": "7c27994a",
   "metadata": {},
   "outputs": [
    {
     "name": "stdout",
     "output_type": "stream",
     "text": [
      "0.014947550466563214\n"
     ]
    }
   ],
   "source": [
    "True_redshift=popt_Hb[1]/c\n",
    "print(True_redshift)"
   ]
  },
  {
   "cell_type": "markdown",
   "id": "3fdc3973",
   "metadata": {},
   "source": [
    "The variable popt_Hb[1] contains the velocity of the H-beta emission line in kilometers per second (km/s), as determined from the fit."
   ]
  },
  {
   "cell_type": "code",
   "execution_count": 83,
   "id": "455e433e",
   "metadata": {},
   "outputs": [],
   "source": [
    "fitted_model=Hb_model_single(wav_Hb,popt_Hb[0],popt_Hb[1],popt_Hb[2],popt_Hb[3],popt_Hb[4])"
   ]
  },
  {
   "cell_type": "markdown",
   "id": "c8b6163b",
   "metadata": {},
   "source": [
    "Hb_model_single is the predefined function modeling the H-beta emission line.\n",
    "\n",
    "The function is called with the selected wavelength values (wav_Hb) and the optimized parameters (popt_Hb) from the curve fit:\n",
    "    \n",
    "popt_Hb[0]: Amplitude of the H-beta line.\n",
    "    \n",
    "popt_Hb[1]: Velocity shift (km/s).\n",
    "    \n",
    "popt_Hb[2]: Velocity dispersion (km/s).\n",
    "    \n",
    "popt_Hb[3]: Linear continuum slope.\n",
    "    \n",
    "popt_Hb[4]: Linear continuum intercept.\n",
    "    \n",
    "The result, fitted_model, is the Gaussian model evaluated at the wavelengths wav_Hb using the best-fit parameters."
   ]
  },
  {
   "cell_type": "code",
   "execution_count": 84,
   "id": "a6604f8e",
   "metadata": {},
   "outputs": [
    {
     "data": {
      "text/plain": [
       "Text(0, 0.5, 'Flux density')"
      ]
     },
     "execution_count": 84,
     "metadata": {},
     "output_type": "execute_result"
    },
    {
     "data": {
      "image/png": "[encoded data removed]",
      "text/plain": [
       "<Figure size 640x480 with 1 Axes>"
      ]
     },
     "metadata": {},
     "output_type": "display_data"
    }
   ],
   "source": [
    "plt.plot(wav_Hb,flux_Hb,'k-')\n",
    "plt.plot(wav_Hb,fitted_model,'r--')\n",
    "plt.xlabel('Angstrom')\n",
    "plt.ylabel('Flux density')"
   ]
  },
  {
   "cell_type": "markdown",
   "id": "a5e48972",
   "metadata": {},
   "source": [
    "Plots the observed flux values (flux_Hb) as a function of wavelength (wav_Hb) in a black solid line ('k-').\n",
    "\n",
    "This represents the actual data from the spectrum in the selected region around H-beta.\n",
    "\n",
    "Plots the fitted Gaussian model (fitted_model) as a red dashed line ('r--').\n",
    "\n",
    "This allows for a visual comparison between the observed data and the model."
   ]
  },
  {
   "cell_type": "code",
   "execution_count": null,
   "id": "5f92889f",
   "metadata": {},
   "outputs": [],
   "source": []
  }
 ],
 "metadata": {
  "kernelspec": {
   "display_name": "Python 3 (ipykernel)",
   "language": "python",
   "name": "python3"
  },
  "language_info": {
   "codemirror_mode": {
    "name": "ipython",
    "version": 3
   },
   "file_extension": ".py",
   "mimetype": "text/x-python",
   "name": "python",
   "nbconvert_exporter": "python",
   "pygments_lexer": "ipython3",
   "version": "3.11.3"
  }
 },
 "nbformat": 4,
 "nbformat_minor": 5
}
